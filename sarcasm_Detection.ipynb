{
  "nbformat": 4,
  "nbformat_minor": 0,
  "metadata": {
    "colab": {
      "name": "PreprocesamientoySVM.ipynb",
      "provenance": [],
      "collapsed_sections": []
    },
    "kernelspec": {
      "name": "python3",
      "display_name": "Python 3"
    },
    "language_info": {
      "name": "python"
    }
  },
  "cells": [
    {
      "cell_type": "markdown",
      "source": [
        "# Preprocesamiento"
      ],
      "metadata": {
        "id": "ZbazAY1m5pSI"
      }
    },
    {
      "cell_type": "code",
      "execution_count": null,
      "metadata": {
        "colab": {
          "base_uri": "https://localhost:8080/"
        },
        "id": "ogT2VfPf4bJZ",
        "outputId": "61a0b91b-cc3c-42f7-a36e-f4174301cda7"
      },
      "outputs": [
        {
          "output_type": "stream",
          "name": "stdout",
          "text": [
            "[nltk_data] Downloading package stopwords to /root/nltk_data...\n",
            "[nltk_data]   Package stopwords is already up-to-date!\n",
            "[nltk_data] Downloading package punkt to /root/nltk_data...\n",
            "[nltk_data]   Package punkt is already up-to-date!\n"
          ]
        },
        {
          "output_type": "execute_result",
          "data": {
            "text/plain": [
              "True"
            ]
          },
          "metadata": {},
          "execution_count": 2
        }
      ],
      "source": [
        "import os\n",
        "import string\n",
        "import numpy as np\n",
        "import pandas as pd\n",
        "import nltk\n",
        "from nltk.corpus import stopwords\n",
        "nltk.download('stopwords')\n",
        "nltk.download('punkt')\n",
        "\n"
      ]
    },
    {
      "cell_type": "code",
      "source": [
        "# df - data frame\n",
        "df = pd.read_csv('train-balanced-sarcasm.csv')\n",
        "# dropping empty comment entries\n",
        "df.dropna(subset=['comment'], inplace=True)\n",
        "\n",
        "print('Type:')\n",
        "print('Labels array ',type(df.label))\n",
        "print('Comments array ',type(df.comment))\n",
        "print('one comment line ', type(df.comment[0]))\n",
        "print('Shape:')\n",
        "print('Labels array ',df.label.shape)\n",
        "print('Comments array ',df.comment.shape)\n",
        "print('Two first entries:')\n",
        "print(df.label[0], df.comment[0])\n",
        "print(df.label[1], df.comment[1])"
      ],
      "metadata": {
        "colab": {
          "base_uri": "https://localhost:8080/"
        },
        "id": "59Y25PBI6Xui",
        "outputId": "f34da5b9-9a35-42af-955a-b7a67f7b9e22"
      },
      "execution_count": null,
      "outputs": [
        {
          "output_type": "stream",
          "name": "stdout",
          "text": [
            "Type:\n",
            "Labels array  <class 'pandas.core.series.Series'>\n",
            "Comments array  <class 'pandas.core.series.Series'>\n",
            "one comment line  <class 'str'>\n",
            "Shape:\n",
            "Labels array  (1010773,)\n",
            "Comments array  (1010773,)\n",
            "Two first entries:\n",
            "0 NC and NH.\n",
            "0 You do know west teams play against west teams more than east teams right?\n"
          ]
        }
      ]
    },
    {
      "cell_type": "code",
      "source": [
        "from sklearn.feature_extraction.text import TfidfVectorizer\n",
        "# create the transform\n",
        "tf_idf_vectorizer = TfidfVectorizer()\n",
        "# tokenize and build vocab\n",
        "T = tf_idf_vectorizer.fit(df.comment)\n",
        "print(len(T.vocabulary_))\n",
        "print(str(T.vocabulary_)[0:500])"
      ],
      "metadata": {
        "id": "GAPwTBht4_lp",
        "colab": {
          "base_uri": "https://localhost:8080/"
        },
        "outputId": "b4627571-8d26-423b-e525-f1b9f27fc65d"
      },
      "execution_count": null,
      "outputs": [
        {
          "output_type": "stream",
          "name": "stdout",
          "text": [
            "167435\n",
            "{'nc': 101553, 'and': 11906, 'nh': 102779, 'you': 165906, 'do': 44923, 'know': 83382, 'west': 161290, 'teams': 146122, 'play': 114148, 'against': 9402, 'more': 98525, 'than': 147330, 'east': 48145, 'right': 125662, 'they': 147871, 'were': 161232, 'underdogs': 154217, 'earlier': 48043, 'today': 149437, 'but': 26313, 'since': 134891, 'gronk': 65565, 'announcement': 12362, 'this': 148055, 'afternoon': 9357, 'the': 147462, 'vegas': 157296, 'line': 87772, 'has': 68232, 'moved': 99088, 'to': 149355, '\n"
          ]
        }
      ]
    },
    {
      "cell_type": "code",
      "source": [
        "# preprocess with nltk\n",
        "def my_tokenizer(corpus):\n",
        "    corpus_tokenized = []\n",
        "    tokenizer = nltk.tokenize.RegexpTokenizer(r'\\w+')\n",
        "    sbs = nltk.stem.SnowballStemmer('english', ignore_stopwords=False)\n",
        "    for comment in corpus:\n",
        "        words = tokenizer.tokenize(comment)\n",
        "        # Remove stop words\n",
        "        stop_words = set(stopwords.words('english'))\n",
        "        words = [word for word in words if not word in stop_words]\n",
        "        \n",
        "        cmnt_t = []\n",
        "        for token in words:\n",
        "            cmnt_t.append(sbs.stem(token))\n",
        "            # make a string to be compatible with TfidfVectorizer\n",
        "            c = ' '.join(cmnt_t)\n",
        "        # Lemmitize\n",
        "        #words = [lemmatizer.lemmatize(word) for word in words]\n",
        "        \n",
        "        corpus_tokenized.append(c)\n",
        "    return corpus_tokenized"
      ],
      "metadata": {
        "id": "OMk40dGb5DoW"
      },
      "execution_count": null,
      "outputs": []
    },
    {
      "cell_type": "code",
      "source": [
        "df2 = pd.Series(my_tokenizer(df.comment))"
      ],
      "metadata": {
        "id": "CYkZgxI35Dvj"
      },
      "execution_count": null,
      "outputs": []
    },
    {
      "cell_type": "code",
      "source": [
        "for i in range(10):\n",
        "    print(df.comment[i])\n",
        "    print(df2[i], '\\n')\n",
        "\n",
        "T = tf_idf_vectorizer.fit(df2)\n",
        "print(str(tf_idf_vectorizer))\n",
        "print(len(T.vocabulary_))\n",
        "print(str(T.vocabulary_)[0:500])\n",
        "\n",
        "tf_idf_vectorizer = TfidfVectorizer(ngram_range=(1,3))\n",
        "T = tf_idf_vectorizer.fit(df2)\n",
        "print(str(tf_idf_vectorizer))\n",
        "print(len(T.vocabulary_))\n",
        "print(str(T.vocabulary_)[0:500])"
      ],
      "metadata": {
        "colab": {
          "base_uri": "https://localhost:8080/"
        },
        "id": "Yy856rmU5D0x",
        "outputId": "ade8dc6b-a8d8-46dc-894e-835a8c9154f4"
      },
      "execution_count": null,
      "outputs": [
        {
          "output_type": "stream",
          "name": "stdout",
          "text": [
            "NC and NH.\n",
            "nc nh \n",
            "\n",
            "You do know west teams play against west teams more than east teams right?\n",
            "you know west team play west team east team right \n",
            "\n",
            "They were underdogs earlier today, but since Gronk's announcement this afternoon, the Vegas line has moved to patriots -1\n",
            "they underdog earlier today sinc gronk announc afternoon vega line move patriot 1 \n",
            "\n",
            "This meme isn't funny none of the \"new york nigga\" ones are.\n",
            "this meme funni none new york nigga one \n",
            "\n",
            "I could use one of those tools.\n",
            "i could use one tool \n",
            "\n",
            "I don't pay attention to her, but as long as she's legal I wouldn't kick her out of bed (before she took a load)\n",
            "i pay attent long legal i kick bed took load \n",
            "\n",
            "Trick or treating in general is just weird...\n",
            "trick treat general weird \n",
            "\n",
            "Blade Mastery+Masamune or GTFO!\n",
            "blade masteri masamun gtfo \n",
            "\n",
            "You don't have to, you have a good build, buy games or save it\n",
            "you good build buy game save \n",
            "\n",
            "I would love to see him at lolla.\n",
            "i would love see lolla \n",
            "\n",
            "TfidfVectorizer()\n",
            "131021\n",
            "{'nc': 80098, 'nh': 81125, 'you': 129631, 'know': 65367, 'west': 125686, 'team': 113664, 'play': 89956, 'east': 37885, 'right': 97989, 'they': 115136, 'underdog': 120162, 'earlier': 37815, 'today': 116401, 'sinc': 105259, 'gronk': 51254, 'announc': 11076, 'afternoon': 8677, 'vega': 122482, 'line': 69007, 'move': 78039, 'patriot': 87443, 'this': 115273, 'meme': 74566, 'funni': 46558, 'none': 81999, 'new': 80900, 'york': 129596, 'nigga': 81317, 'one': 84472, 'could': 29102, 'use': 121584, 'tool': \n",
            "TfidfVectorizer(ngram_range=(1, 3))\n",
            "6268559\n",
            "{'nc': 3542268, 'nh': 3610596, 'nc nh': 3542374, 'you': 6224152, 'know': 2838093, 'west': 5929204, 'team': 5230273, 'play': 4034529, 'east': 1533044, 'right': 4475474, 'you know': 6233198, 'know west': 2864119, 'west team': 5930121, 'team play': 5234833, 'play west': 4048247, 'team east': 5231985, 'east team': 1533873, 'team right': 5235414, 'you know west': 6233870, 'know west team': 2864124, 'west team play': 5930128, 'team play west': 5234909, 'play west team': 4048253, 'west team east': 5930\n"
          ]
        }
      ]
    },
    {
      "cell_type": "code",
      "source": [
        "from sklearn.model_selection import train_test_split\n",
        "# divide into train and test sets\n",
        "X_train, X_test, y_train, y_test = train_test_split(df2, df.label, train_size=0.33)\n",
        "\n",
        "print((X_train[0:3]))\n",
        "print(\"\\n\")\n",
        "\n",
        "print((y_train[0:3]))\n",
        "print(\"\\n\")\n",
        "print((X_test[0:3]))\n",
        "\n",
        "print(\"\\n\")\n",
        "\n",
        "print((y_test[0:3]))\n",
        "print(\"\\n\")\n"
      ],
      "metadata": {
        "id": "twS_qFwC5D5E",
        "colab": {
          "base_uri": "https://localhost:8080/"
        },
        "outputId": "8a14d1b2-e86e-4094-8d09-11191c9d1bac"
      },
      "execution_count": null,
      "outputs": [
        {
          "output_type": "stream",
          "name": "stdout",
          "text": [
            "655324                                 warcraft 2\n",
            "927295                                  u mad bro\n",
            "634283    just sure drink water motrin anger issu\n",
            "dtype: object\n",
            "\n",
            "\n",
            "655346    0\n",
            "927335    0\n",
            "634303    1\n",
            "Name: label, dtype: int64\n",
            "\n",
            "\n",
            "1000298    becaus hornet often cruis san diego area anywh...\n",
            "302852                                                    rt\n",
            "919119                                 you misspel movi titl\n",
            "dtype: object\n",
            "\n",
            "\n",
            "1000346    1\n",
            "302858     0\n",
            "919157     0\n",
            "Name: label, dtype: int64\n",
            "\n",
            "\n"
          ]
        }
      ]
    },
    {
      "cell_type": "code",
      "source": [
        "# Vetorize the training data set\n",
        "X_train = tf_idf_vectorizer.fit_transform(X_train)\n",
        "#print(X_train.shape)\n",
        "print(X_train[0:3])\n",
        "\n"
      ],
      "metadata": {
        "id": "MInUe6xf5EAE",
        "colab": {
          "base_uri": "https://localhost:8080/"
        },
        "outputId": "51e26073-0cd4-45b2-91b8-e899e290f904"
      },
      "execution_count": null,
      "outputs": [
        {
          "output_type": "stream",
          "name": "stdout",
          "text": [
            "  (0, 2162804)\t1.0\n",
            "  (1, 1175262)\t0.7597664380157049\n",
            "  (1, 268189)\t0.4237081035025506\n",
            "  (1, 1175229)\t0.4931798887740659\n",
            "  (2, 1279897)\t0.27699234484930013\n",
            "  (2, 2169775)\t0.27699234484930013\n",
            "  (2, 546743)\t0.27699234484930013\n",
            "  (2, 1905096)\t0.27699234484930013\n",
            "  (2, 1026160)\t0.27699234484930013\n",
            "  (2, 113165)\t0.2622510757878252\n",
            "  (2, 1279896)\t0.27699234484930013\n",
            "  (2, 2169774)\t0.27699234484930013\n",
            "  (2, 546737)\t0.22698528097818924\n",
            "  (2, 1905095)\t0.27699234484930013\n",
            "  (2, 1026159)\t0.25034963965366797\n",
            "  (2, 991567)\t0.14312957037666835\n",
            "  (2, 113126)\t0.2001983911233577\n",
            "  (2, 1279895)\t0.2622510757878252\n",
            "  (2, 2169313)\t0.15105721418617585\n",
            "  (2, 546075)\t0.15568911447460665\n",
            "  (2, 1903500)\t0.10446832920597225\n",
            "  (2, 1023774)\t0.12616231586581392\n"
          ]
        }
      ]
    },
    {
      "cell_type": "code",
      "source": [
        "# Vetorize the test data set\n",
        "X_test = tf_idf_vectorizer.transform(X_test)\n",
        "print(X_test.shape)\n",
        "print(X_test[0:3])"
      ],
      "metadata": {
        "colab": {
          "base_uri": "https://localhost:8080/"
        },
        "id": "i9BGwg0K5asx",
        "outputId": "a6dd9856-3234-48c7-be88-e43641485f19"
      },
      "execution_count": null,
      "outputs": [
        {
          "output_type": "stream",
          "name": "stdout",
          "text": [
            "(677218, 2327533)\n",
            "  (0, 1694112)\t0.3679760483358014\n",
            "  (0, 1694070)\t0.30165400784372753\n",
            "  (0, 1383237)\t0.27455898525895966\n",
            "  (0, 915712)\t0.40108066582053825\n",
            "  (0, 863388)\t0.31357595428498547\n",
            "  (0, 510360)\t0.3610966765675475\n",
            "  (0, 450798)\t0.3403860919488052\n",
            "  (0, 199076)\t0.18482486991693017\n",
            "  (0, 135914)\t0.2674405469398042\n",
            "  (0, 126733)\t0.2950967490640807\n",
            "  (1, 1677016)\t1.0\n",
            "  (2, 2315441)\t0.4933155279072011\n",
            "  (2, 2310390)\t0.20405687513377016\n",
            "  (2, 2034951)\t0.32893343220486143\n",
            "  (2, 1283768)\t0.5620961145086695\n",
            "  (2, 1282793)\t0.3114969924589013\n",
            "  (2, 1261436)\t0.44025101993922305\n"
          ]
        }
      ]
    },
    {
      "cell_type": "markdown",
      "source": [
        "# Procesamiento SVM\n",
        "\n"
      ],
      "metadata": {
        "id": "JnugOfwt5hzv"
      }
    },
    {
      "cell_type": "code",
      "source": [
        "from sklearn.svm import LinearSVC\n",
        "from sklearn.ensemble import BaggingClassifier\n",
        "\n",
        "#from sklearn import svm\n",
        "#from sklearn.ensemble import BaggingClassifier\n",
        "\n",
        "# bagging with SVM\n",
        "# oob Out-Of-Bag\n",
        "\n",
        "\n",
        "bag_log_reg_svm = LinearSVC()\n",
        "\n",
        "\n",
        "# bag_log_reg_svm = BaggingClassifier(\n",
        "#      LinearSVC(), n_estimators=200,\n",
        "#     max_samples=50000, bootstrap=True, n_jobs=None, oob_score=True)\n",
        "\n",
        "bag_log_reg_svm.fit(X_train,y_train)\n",
        "#print('oob_score is ', bag_log_reg_svm.oob_score_)"
      ],
      "metadata": {
        "id": "b8hJTmOv5lhU",
        "colab": {
          "base_uri": "https://localhost:8080/"
        },
        "outputId": "e49825d6-81e3-4e8b-def3-b01ced7c1c39"
      },
      "execution_count": null,
      "outputs": [
        {
          "output_type": "execute_result",
          "data": {
            "text/plain": [
              "LinearSVC()"
            ]
          },
          "metadata": {},
          "execution_count": 28
        }
      ]
    },
    {
      "cell_type": "code",
      "source": [
        "from sklearn.metrics import accuracy_score\n",
        "\n",
        "bag_reg_svm_pred = bag_log_reg_svm.predict(X_test)\n",
        "print(str(bag_reg_svm_pred))\n",
        "\n",
        "accuracy_score(y_test, bag_reg_svm_pred)"
      ],
      "metadata": {
        "colab": {
          "base_uri": "https://localhost:8080/"
        },
        "id": "BBE1BY1T5yt3",
        "outputId": "19c35653-4988-4eff-dd82-d484acc1b01d"
      },
      "execution_count": null,
      "outputs": [
        {
          "output_type": "stream",
          "name": "stdout",
          "text": [
            "[0 1 1 ... 1 1 1]\n"
          ]
        },
        {
          "output_type": "execute_result",
          "data": {
            "text/plain": [
              "0.6796570675912336"
            ]
          },
          "metadata": {},
          "execution_count": 29
        }
      ]
    },
    {
      "cell_type": "code",
      "source": [
        "import matplotlib.pyplot as plt\n",
        "from sklearn.metrics import roc_curve\n",
        "\n",
        "# calculate roc curve\n",
        "fpr, tpr, thresholds = roc_curve(y_test, bag_reg_svm_pred)\n",
        "# plot no skill\n",
        "plt.plot([0, 1], [0, 1], linestyle='--')\n",
        "# plot the roc curve for the model\n",
        "plt.plot(fpr, tpr, marker='.')\n",
        "# show the plot\n",
        "plt.show()"
      ],
      "metadata": {
        "colab": {
          "base_uri": "https://localhost:8080/",
          "height": 265
        },
        "id": "rR25FG9j5y0l",
        "outputId": "dcab9085-d7e1-4dec-f686-e18e37c97011"
      },
      "execution_count": null,
      "outputs": [
        {
          "output_type": "display_data",
          "data": {
            "image/png": "[encoded data removed]",
            "text/plain": [
              "<Figure size 432x288 with 1 Axes>"
            ]
          },
          "metadata": {
            "needs_background": "light"
          }
        }
      ]
    },
    {
      "cell_type": "code",
      "source": [
        "from sklearn.metrics import precision_recall_curve\n",
        "\n",
        "precision, recall, thresholds = precision_recall_curve(y_test, bag_reg_svm_pred)\n",
        "# plot no skill\n",
        "plt.plot([0, 1], [0.5, 0.5], linestyle='--')\n",
        "# plot the precision-recall curve for the model\n",
        "plt.plot(recall, precision, marker='.')\n",
        "# show the plot\n",
        "plt.show()"
      ],
      "metadata": {
        "colab": {
          "base_uri": "https://localhost:8080/",
          "height": 265
        },
        "id": "URW6EdUC5y6q",
        "outputId": "b31a393f-80a7-4c55-91f9-0f0cb6338f5b"
      },
      "execution_count": null,
      "outputs": [
        {
          "output_type": "display_data",
          "data": {
            "image/png": "[encoded data removed]",
            "text/plain": [
              "<Figure size 432x288 with 1 Axes>"
            ]
          },
          "metadata": {
            "needs_background": "light"
          }
        }
      ]
    },
    {
      "cell_type": "code",
      "source": [
        "# In matplotlib < 1.5, plt.fill_between does not have a 'step' argument\n",
        "step_kwargs = ({'step': 'post'})\n",
        "plt.step(recall, precision, color='b', alpha=0.2,\n",
        "         where='post')\n",
        "plt.fill_between(recall, precision, alpha=0.2, color='b', **step_kwargs)\n",
        "\n",
        "from sklearn.metrics import average_precision_score\n",
        "average_precision = average_precision_score(y_test, bag_reg_svm_pred)\n",
        "\n",
        "plt.xlabel('Recall')\n",
        "plt.ylabel('Precision')\n",
        "plt.ylim([0.0, 1.05])\n",
        "plt.xlim([0.0, 1.0])\n",
        "plt.title('2-class Precision-Recall curve: AP={0:0.2f}'.format(average_precision))"
      ],
      "metadata": {
        "colab": {
          "base_uri": "https://localhost:8080/",
          "height": 312
        },
        "id": "-jLhaqiE5zAy",
        "outputId": "daacfe6f-19c7-45de-cd00-abc65e08a3e6"
      },
      "execution_count": null,
      "outputs": [
        {
          "output_type": "execute_result",
          "data": {
            "text/plain": [
              "Text(0.5, 1.0, '2-class Precision-Recall curve: AP=0.62')"
            ]
          },
          "metadata": {},
          "execution_count": 23
        },
        {
          "output_type": "display_data",
          "data": {
            "image/png": "[encoded data removed]",
            "text/plain": [
              "<Figure size 432x288 with 1 Axes>"
            ]
          },
          "metadata": {
            "needs_background": "light"
          }
        }
      ]
    },
    {
      "cell_type": "code",
      "source": [
        "from sklearn.metrics import confusion_matrix\n",
        "\n",
        "cm = confusion_matrix(y_test, bag_log_reg_svm.predict(X_test))\n",
        "fig = plt.figure()\n",
        "ax = fig.add_subplot(111)\n",
        "cax = ax.matshow(cm)\n",
        "fig.colorbar(cax)\n",
        "plt.xlabel('Predicted')\n",
        "plt.ylabel('True')\n",
        "plt.show()"
      ],
      "metadata": {
        "colab": {
          "base_uri": "https://localhost:8080/",
          "height": 279
        },
        "id": "XalDLkzn5539",
        "outputId": "a9b599b2-698b-499c-91d6-cb66a786935f"
      },
      "execution_count": null,
      "outputs": [
        {
          "output_type": "display_data",
          "data": {
            "image/png": "[encoded data removed]",
            "text/plain": [
              "<Figure size 432x288 with 2 Axes>"
            ]
          },
          "metadata": {
            "needs_background": "light"
          }
        }
      ]
    },
    {
      "cell_type": "code",
      "source": [
        "from sklearn.metrics import precision_score\n",
        "from sklearn.metrics import recall_score\n",
        "from sklearn.metrics import f1_score\n",
        "\n",
        "print('Precision bagging svm: ', precision_score(y_test, bag_reg_svm_pred))\n",
        "print('Recall bagging svm: ', recall_score(y_test, bag_reg_svm_pred))\n",
        "print('F1 score bagging svm: ', f1_score(y_test, bag_reg_svm_pred))"
      ],
      "metadata": {
        "colab": {
          "base_uri": "https://localhost:8080/"
        },
        "id": "02UaaizQ559h",
        "outputId": "010afbe6-d6e4-42d9-c6bb-67a3b5f3642d"
      },
      "execution_count": null,
      "outputs": [
        {
          "output_type": "stream",
          "name": "stdout",
          "text": [
            "Precision bagging svm:  0.6773944995899355\n",
            "Recall bagging svm:  0.6856512349964402\n",
            "F1 score bagging svm:  0.6814978594457461\n"
          ]
        }
      ]
    },
    {
      "cell_type": "code",
      "source": [
        ""
      ],
      "metadata": {
        "id": "egtAjkb0-NPs"
      },
      "execution_count": null,
      "outputs": []
    }
  ]
}