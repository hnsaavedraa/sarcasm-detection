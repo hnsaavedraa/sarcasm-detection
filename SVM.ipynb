{
  "cells": [
    {
      "cell_type": "markdown",
      "metadata": {
        "id": "ZbazAY1m5pSI"
      },
      "source": [
        "# Preprocesamiento"
      ]
    },
    {
      "cell_type": "code",
      "execution_count": null,
      "metadata": {
        "colab": {
          "base_uri": "https://localhost:8080/"
        },
        "id": "ogT2VfPf4bJZ",
        "outputId": "c336e15d-753a-4648-ca40-3aac654a08e4"
      },
      "outputs": [
        {
          "output_type": "stream",
          "name": "stdout",
          "text": [
            "[nltk_data] Downloading package stopwords to /root/nltk_data...\n",
            "[nltk_data]   Unzipping corpora/stopwords.zip.\n",
            "[nltk_data] Downloading package punkt to /root/nltk_data...\n",
            "[nltk_data]   Unzipping tokenizers/punkt.zip.\n"
          ]
        },
        {
          "output_type": "execute_result",
          "data": {
            "text/plain": [
              "True"
            ]
          },
          "metadata": {},
          "execution_count": 1
        }
      ],
      "source": [
        "import os\n",
        "import string\n",
        "import numpy as np\n",
        "import pandas as pd\n",
        "import nltk\n",
        "from nltk.corpus import stopwords\n",
        "nltk.download('stopwords')\n",
        "nltk.download('punkt')"
      ]
    },
    {
      "cell_type": "code",
      "execution_count": null,
      "metadata": {
        "id": "59Y25PBI6Xui"
      },
      "outputs": [],
      "source": [
        "# df por data frame\n",
        "df = pd.read_csv('train-balanced-sarcasm.csv')\n",
        "# drop na \n",
        "df.dropna(subset=['comment'], inplace=True)"
      ]
    },
    {
      "cell_type": "code",
      "execution_count": null,
      "metadata": {
        "id": "OMk40dGb5DoW"
      },
      "outputs": [],
      "source": [
        "#Funcion de Prepocesamiento y Tokenizacion\n",
        "def my_tokenizer(corpus):\n",
        "    corpus_tokenized = []\n",
        "    tokenizer = nltk.tokenize.RegexpTokenizer(r'\\w+')\n",
        "    sbs = nltk.stem.SnowballStemmer('english', ignore_stopwords=False)\n",
        "    for comment in corpus:\n",
        "        words = tokenizer.tokenize(comment)\n",
        "        # Quitar stop words (artículos, pronombres, preposiciones)\n",
        "        stop_words = set(stopwords.words('english'))\n",
        "        words = [word for word in words if not word in stop_words]\n",
        "        \n",
        "        cmnt_t = []\n",
        "        for token in words:\n",
        "            cmnt_t.append(sbs.stem(token))\n",
        "            # string compatible con TfidfVectorizer\n",
        "            c = ' '.join(cmnt_t)\n",
        "        # Lemmitize\n",
        "        #words = [lemmatizer.lemmatize(word) for word in words]\n",
        "        corpus_tokenized.append(c)\n",
        "    return corpus_tokenized"
      ]
    },
    {
      "cell_type": "code",
      "execution_count": null,
      "metadata": {
        "colab": {
          "base_uri": "https://localhost:8080/"
        },
        "id": "CYkZgxI35Dvj",
        "outputId": "cb23ba62-c805-49a6-d8db-bb9acfd1ccbd"
      },
      "outputs": [
        {
          "output_type": "stream",
          "name": "stdout",
          "text": [
            "NC and NH.\n",
            "nc nh \n",
            "\n",
            "You do know west teams play against west teams more than east teams right?\n",
            "you know west team play west team east team right \n",
            "\n",
            "They were underdogs earlier today, but since Gronk's announcement this afternoon, the Vegas line has moved to patriots -1\n",
            "they underdog earlier today sinc gronk announc afternoon vega line move patriot 1 \n",
            "\n",
            "This meme isn't funny none of the \"new york nigga\" ones are.\n",
            "this meme funni none new york nigga one \n",
            "\n",
            "I could use one of those tools.\n",
            "i could use one tool \n",
            "\n",
            "I don't pay attention to her, but as long as she's legal I wouldn't kick her out of bed (before she took a load)\n",
            "i pay attent long legal i kick bed took load \n",
            "\n",
            "Trick or treating in general is just weird...\n",
            "trick treat general weird \n",
            "\n",
            "Blade Mastery+Masamune or GTFO!\n",
            "blade masteri masamun gtfo \n",
            "\n",
            "You don't have to, you have a good build, buy games or save it\n",
            "you good build buy game save \n",
            "\n",
            "I would love to see him at lolla.\n",
            "i would love see lolla \n",
            "\n"
          ]
        }
      ],
      "source": [
        "#Tokenizacion de los comentarios\n",
        "df2 = pd.Series(my_tokenizer(df.comment))\n",
        "\n",
        "for i in range(10):\n",
        "    print(df.comment[i])\n",
        "    print(df2[i], '\\n')"
      ]
    },
    {
      "cell_type": "code",
      "execution_count": null,
      "metadata": {
        "colab": {
          "base_uri": "https://localhost:8080/"
        },
        "id": "Yy856rmU5D0x",
        "outputId": "0409f1b0-5094-4959-b764-bbfa375890e0"
      },
      "outputs": [
        {
          "output_type": "stream",
          "name": "stdout",
          "text": [
            "TfidfVectorizer(ngram_range=(1, 3))\n",
            "6268559\n",
            "{'nc': 3542268, 'nh': 3610596, 'nc nh': 3542374, 'you': 6224152, 'know': 2838093, 'west': 5929204, 'team': 5230273, 'play': 4034529, 'east': 1533044, 'right': 4475474, 'you know': 6233198, 'know west': 2864119, 'west team': 5930121, 'team play': 5234833, 'play west': 4048247, 'team east': 5231985, 'east team': 1533873, 'team right': 5235414, 'you know west': 6233870, 'know west team': 2864124, 'west team play': 5930128, 'team play west': 5234909, 'play west team': 4048253, 'west team east': 5930\n"
          ]
        }
      ],
      "source": [
        "from sklearn.feature_extraction.text import TfidfVectorizer\n",
        "\n",
        "tf_idf_vectorizer = TfidfVectorizer(ngram_range=(1,3))\n",
        "T = tf_idf_vectorizer.fit(df2)\n",
        "print(str(tf_idf_vectorizer))\n",
        "print(len(T.vocabulary_))\n",
        "print(str(T.vocabulary_)[0:500])"
      ]
    },
    {
      "cell_type": "code",
      "execution_count": null,
      "metadata": {
        "colab": {
          "base_uri": "https://localhost:8080/"
        },
        "id": "twS_qFwC5D5E",
        "outputId": "d05aaaa4-9a6b-4147-9e38-c3413c3c515d"
      },
      "outputs": [
        {
          "output_type": "stream",
          "name": "stdout",
          "text": [
            "\n",
            "\n",
            "Numero de comeentarios para Training/Testing:\n",
            "333555\n",
            "677218\n"
          ]
        }
      ],
      "source": [
        "from sklearn.model_selection import train_test_split\n",
        "# divide into train and test sets\n",
        "X_train, X_test, y_train, y_test = train_test_split(df2, df.label, train_size=0.33)\n",
        "\n",
        "print(\"\\n\")\n",
        "print(\"Numero de comeentarios para Training/Testing:\")\n",
        "print(len(X_train))\n",
        "print(len(X_test))"
      ]
    },
    {
      "cell_type": "code",
      "execution_count": null,
      "metadata": {
        "id": "MInUe6xf5EAE"
      },
      "outputs": [],
      "source": [
        "# Vetorize the large training data set\n",
        "X_train = tf_idf_vectorizer.fit_transform(X_train)\n",
        "X_test = tf_idf_vectorizer.transform(X_test)\n",
        "#print(X_train.shape)"
      ]
    },
    {
      "cell_type": "markdown",
      "metadata": {
        "id": "JnugOfwt5hzv"
      },
      "source": [
        "# Procesamiento SVM\n",
        "\n"
      ]
    },
    {
      "cell_type": "markdown",
      "metadata": {
        "id": "2jQkd6lABVBD"
      },
      "source": [
        "**Linear SVC**"
      ]
    },
    {
      "cell_type": "code",
      "execution_count": null,
      "metadata": {
        "colab": {
          "base_uri": "https://localhost:8080/"
        },
        "id": "MmeZg3kqBFyQ",
        "outputId": "c1192c4e-2df2-400b-f474-43fe54e05017"
      },
      "outputs": [
        {
          "output_type": "execute_result",
          "data": {
            "text/plain": [
              "LinearSVC()"
            ]
          },
          "metadata": {},
          "execution_count": 9
        }
      ],
      "source": [
        "from sklearn.svm import LinearSVC\n",
        "\n",
        "lin_svm = LinearSVC()\n",
        "lin_svm.fit(X_train,y_train)"
      ]
    },
    {
      "cell_type": "code",
      "execution_count": null,
      "metadata": {
        "colab": {
          "base_uri": "https://localhost:8080/"
        },
        "id": "BBE1BY1T5yt3",
        "outputId": "3fe47e96-046c-4173-fa46-acbe75242c62"
      },
      "outputs": [
        {
          "output_type": "stream",
          "name": "stdout",
          "text": [
            "[1 0 0 ... 1 1 1]\n"
          ]
        },
        {
          "output_type": "execute_result",
          "data": {
            "text/plain": [
              "0.6805873441048526"
            ]
          },
          "metadata": {},
          "execution_count": 10
        }
      ],
      "source": [
        "from sklearn.metrics import accuracy_score\n",
        "\n",
        "lin_svm_pred = lin_svm.predict(X_test)\n",
        "print(str(lin_svm_pred))\n",
        "accuracy_score(y_test, lin_svm_pred)"
      ]
    },
    {
      "cell_type": "markdown",
      "metadata": {
        "id": "LRFwpIXICZzX"
      },
      "source": [
        "**RBF**"
      ]
    },
    {
      "cell_type": "code",
      "execution_count": null,
      "metadata": {
        "id": "2DM1t-p0CuxJ",
        "colab": {
          "base_uri": "https://localhost:8080/"
        },
        "outputId": "83b95b2f-e17d-4dfc-e9b8-cd0034ff0da1"
      },
      "outputs": [
        {
          "output_type": "execute_result",
          "data": {
            "text/plain": [
              "SVC(C=1)"
            ]
          },
          "metadata": {},
          "execution_count": 9
        }
      ],
      "source": [
        "from sklearn.svm import SVC\n",
        "\n",
        "rbf_svm = SVC(C=1, kernel='rbf')\n",
        "rbf_svm.fit(X_train,y_train)\n"
      ]
    },
    {
      "cell_type": "code",
      "execution_count": null,
      "metadata": {
        "colab": {
          "base_uri": "https://localhost:8080/"
        },
        "id": "rc9GcPkbmHTS",
        "outputId": "4903e421-0cd6-4683-f014-c28fc557cba2"
      },
      "outputs": [
        {
          "output_type": "stream",
          "name": "stdout",
          "text": [
            "[1 1 0 ... 0 0 0]\n"
          ]
        },
        {
          "output_type": "execute_result",
          "data": {
            "text/plain": [
              "0.6610142662102535"
            ]
          },
          "metadata": {},
          "execution_count": 10
        }
      ],
      "source": [
        "from sklearn.metrics import accuracy_score\n",
        "\n",
        "rbf_svm_pred = rbf_svm.predict(X_test)\n",
        "print(str(rbf_svm_pred))\n",
        "accuracy_score(y_test, rbf_svm_pred)"
      ]
    },
    {
      "cell_type": "markdown",
      "metadata": {
        "id": "cOKdLzNI8kXs"
      },
      "source": [
        "**Polynomial**"
      ]
    },
    {
      "cell_type": "code",
      "execution_count": null,
      "metadata": {
        "colab": {
          "base_uri": "https://localhost:8080/"
        },
        "id": "R_cNabq98o_m",
        "outputId": "024bf140-6aa8-452a-e8f6-61daceb91814"
      },
      "outputs": [
        {
          "output_type": "execute_result",
          "data": {
            "text/plain": [
              "SVC(C=1, coef0=2, kernel='poly')"
            ]
          },
          "metadata": {},
          "execution_count": 15
        }
      ],
      "source": [
        "from sklearn.svm import SVC\n",
        "\n",
        "pol_svm = SVC(C=1, kernel='poly', coef0=2, degree=3)\n",
        "pol_svm.fit(X_train,y_train)"
      ]
    },
    {
      "cell_type": "code",
      "execution_count": null,
      "metadata": {
        "colab": {
          "base_uri": "https://localhost:8080/"
        },
        "id": "VMVve9Lh80Lo",
        "outputId": "325cdb3a-6995-449b-f494-c3079e75e866"
      },
      "outputs": [
        {
          "output_type": "stream",
          "name": "stdout",
          "text": [
            "[0 1 0 ... 0 0 0]\n"
          ]
        },
        {
          "output_type": "execute_result",
          "data": {
            "text/plain": [
              "0.6369932131621124"
            ]
          },
          "metadata": {},
          "execution_count": 16
        }
      ],
      "source": [
        "from sklearn.metrics import accuracy_score\n",
        "\n",
        "pol_svm_pred = pol_svm.predict(X_test)\n",
        "print(str(pol_svm_pred))\n",
        "accuracy_score(y_test, pol_svm_pred)"
      ]
    },
    {
      "cell_type": "markdown",
      "source": [
        "**Resultado**"
      ],
      "metadata": {
        "id": "s_-5tswn9SSv"
      }
    },
    {
      "cell_type": "code",
      "execution_count": null,
      "metadata": {
        "colab": {
          "base_uri": "https://localhost:8080/",
          "height": 279
        },
        "id": "XalDLkzn5539",
        "outputId": "93ada5dc-49c6-44df-9491-3b557175c67d"
      },
      "outputs": [
        {
          "output_type": "display_data",
          "data": {
            "image/png": "[encoded data removed]",
            "text/plain": [
              "<Figure size 432x288 with 2 Axes>"
            ]
          },
          "metadata": {
            "needs_background": "light"
          }
        }
      ],
      "source": [
        "import matplotlib.pyplot as plt\n",
        "from sklearn.metrics import confusion_matrix\n",
        "\n",
        "cm = confusion_matrix(y_test, lin_svm.predict(X_test))\n",
        "fig = plt.figure()\n",
        "ax = fig.add_subplot(111)\n",
        "cax = ax.matshow(cm)\n",
        "fig.colorbar(cax)\n",
        "plt.xlabel('Prediccion')\n",
        "plt.ylabel('Verdadero')\n",
        "plt.show()"
      ]
    }
  ],
  "metadata": {
    "colab": {
      "collapsed_sections": [],
      "name": "PreprocesamientoySVM.ipynb",
      "provenance": []
    },
    "kernelspec": {
      "display_name": "Python 3",
      "name": "python3"
    },
    "language_info": {
      "name": "python"
    }
  },
  "nbformat": 4,
  "nbformat_minor": 0
}