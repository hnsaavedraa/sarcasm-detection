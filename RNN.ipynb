{
  "cells": [
    {
      "cell_type": "markdown",
      "metadata": {
        "id": "JOI2oiPmusY5"
      },
      "source": [
        "Set-up librerias"
      ]
    },
    {
      "cell_type": "code",
      "execution_count": null,
      "metadata": {
        "id": "WcsshlJcusY8"
      },
      "outputs": [],
      "source": [
        "# pandas to open data files & processing it.\n",
        "import pandas as pd\n",
        "# to see all columns\n",
        "pd.set_option('display.max_columns', None)\n",
        "\n",
        "\n",
        "# numpy for numeric data processing\n",
        "import numpy as np\n",
        "\n",
        "# keras for deep learning model creation\n",
        "from tensorflow.keras.preprocessing.text import Tokenizer\n",
        "from tensorflow.keras.preprocessing.sequence import pad_sequences\n",
        "from tensorflow.keras.layers import Dense, Input, LSTM, Embedding, Dropout, Activation, Flatten, Bidirectional, GlobalMaxPool1D\n",
        "from tensorflow.keras.models import Model\n",
        "from tensorflow.keras.models import Sequential\n",
        "from tensorflow.keras.utils import plot_model\n",
        "\n",
        "# Regular Expression for text cleaning\n",
        "import re\n",
        "\n",
        "# to track the progress - progress bar\n",
        "from tqdm.notebook import tqdm"
      ]
    },
    {
      "cell_type": "markdown",
      "metadata": {
        "id": "RRT8cYQ7usZB"
      },
      "source": [
        "Read dataset"
      ]
    },
    {
      "cell_type": "code",
      "execution_count": null,
      "metadata": {
        "id": "tR4r8zmhusZC",
        "outputId": "52e8f814-ca13-466e-c20b-c418bdce58fc"
      },
      "outputs": [
        {
          "name": "stdout",
          "output_type": "stream",
          "text": [
            "(1010826, 10)\n"
          ]
        }
      ],
      "source": [
        "sarcasm_data = pd.read_csv(\"train-balanced-sarcasm.csv\")\n",
        "print(sarcasm_data.shape)"
      ]
    },
    {
      "cell_type": "markdown",
      "metadata": {
        "id": "YnMMHB-husZD"
      },
      "source": [
        "Drop columns unused"
      ]
    },
    {
      "cell_type": "code",
      "execution_count": null,
      "metadata": {
        "id": "xjGHt-1rusZE",
        "outputId": "89b761d6-1a24-43ef-e696-4cdefcab2a1d"
      },
      "outputs": [
        {
          "data": {
            "text/html": [
              "<div>\n",
              "<style scoped>\n",
              "    .dataframe tbody tr th:only-of-type {\n",
              "        vertical-align: middle;\n",
              "    }\n",
              "\n",
              "    .dataframe tbody tr th {\n",
              "        vertical-align: top;\n",
              "    }\n",
              "\n",
              "    .dataframe thead th {\n",
              "        text-align: right;\n",
              "    }\n",
              "</style>\n",
              "<table border=\"1\" class=\"dataframe\">\n",
              "  <thead>\n",
              "    <tr style=\"text-align: right;\">\n",
              "      <th></th>\n",
              "      <th>label</th>\n",
              "      <th>comment</th>\n",
              "    </tr>\n",
              "  </thead>\n",
              "  <tbody>\n",
              "    <tr>\n",
              "      <th>0</th>\n",
              "      <td>0</td>\n",
              "      <td>NC and NH.</td>\n",
              "    </tr>\n",
              "    <tr>\n",
              "      <th>1</th>\n",
              "      <td>0</td>\n",
              "      <td>You do know west teams play against west teams...</td>\n",
              "    </tr>\n",
              "    <tr>\n",
              "      <th>2</th>\n",
              "      <td>0</td>\n",
              "      <td>They were underdogs earlier today, but since G...</td>\n",
              "    </tr>\n",
              "    <tr>\n",
              "      <th>3</th>\n",
              "      <td>0</td>\n",
              "      <td>This meme isn't funny none of the \"new york ni...</td>\n",
              "    </tr>\n",
              "    <tr>\n",
              "      <th>4</th>\n",
              "      <td>0</td>\n",
              "      <td>I could use one of those tools.</td>\n",
              "    </tr>\n",
              "  </tbody>\n",
              "</table>\n",
              "</div>"
            ],
            "text/plain": [
              "   label                                            comment\n",
              "0      0                                         NC and NH.\n",
              "1      0  You do know west teams play against west teams...\n",
              "2      0  They were underdogs earlier today, but since G...\n",
              "3      0  This meme isn't funny none of the \"new york ni...\n",
              "4      0                    I could use one of those tools."
            ]
          },
          "execution_count": 3,
          "metadata": {},
          "output_type": "execute_result"
        }
      ],
      "source": [
        "sarcasm_data.drop(['author', 'subreddit', 'score', 'ups', 'downs', 'date', 'created_utc', 'parent_comment'], axis=1, inplace=True)\n",
        "# remove empty rows\n",
        "sarcasm_data.dropna(inplace=True)\n",
        "# dropping empty comment entries\n",
        "\n",
        "sarcasm_data.head()"
      ]
    },
    {
      "cell_type": "code",
      "execution_count": null,
      "metadata": {
        "id": "n2Q7afaJusZG",
        "outputId": "9cad296c-42e0-47d4-fff1-25d2f4ee82e4"
      },
      "outputs": [
        {
          "data": {
            "text/plain": [
              "0    505405\n",
              "1    505368\n",
              "Name: label, dtype: int64"
            ]
          },
          "execution_count": 4,
          "metadata": {},
          "output_type": "execute_result"
        }
      ],
      "source": [
        "sarcasm_data['label'].value_counts()"
      ]
    },
    {
      "cell_type": "markdown",
      "metadata": {
        "id": "1DhqLJlHusZH"
      },
      "source": [
        "Preprocessing dataset (remove contractions, fix spaces, to lowercase)"
      ]
    },
    {
      "cell_type": "code",
      "execution_count": null,
      "metadata": {
        "id": "aae14FJqusZJ"
      },
      "outputs": [],
      "source": [
        "mispell_dict = {\"ain't\": \"is not\", \"cannot\": \"can not\", \"aren't\": \"are not\", \"can't\": \"can not\", \"'cause\": \"because\", \"could've\": \"could have\", \"couldn't\": \"could not\", \"didn't\": \"did not\",\n",
        "                \"doesn't\": \"does not\",\n",
        "                \"don't\": \"do not\", \"hadn't\": \"had not\", \"hasn't\": \"has not\", \"haven't\": \"have not\", \"he'd\": \"he would\", \"he'll\": \"he will\", \"he's\": \"he is\", \"how'd\": \"how did\",\n",
        "                \"how'd'y\": \"how do you\", \"how'll\": \"how will\", \"how's\": \"how is\", \"I'd\": \"I would\", \"I'd've\": \"I would have\", \"I'll\": \"I will\", \"I'll've\": \"I will have\", \"I'm\": \"I am\",\n",
        "                \"I've\": \"I have\", \"i'd\": \"i would\", \"i'd've\": \"i would have\", \"i'll\": \"i will\", \"i'll've\": \"i will have\", \"i'm\": \"i am\", \"i've\": \"i have\", \"isn't\": \"is not\", \"it'd\": \"it would\",\n",
        "                \"it'd've\": \"it would have\", \"it'll\": \"it will\", \"it'll've\": \"it will have\", \"it's\": \"it is\", \"let's\": \"let us\", \"ma'am\": \"madam\", \"mayn't\": \"may not\", \"might've\": \"might have\",\n",
        "                \"mightn't\": \"might not\", \"mightn't've\": \"might not have\", \"must've\": \"must have\", \"mustn't\": \"must not\", \"mustn't've\": \"must not have\", \"needn't\": \"need not\",\n",
        "                \"needn't've\": \"need not have\", \"o'clock\": \"of the clock\", \"oughtn't\": \"ought not\", \"oughtn't've\": \"ought not have\", \"shan't\": \"shall not\", \"sha'n't\": \"shall not\",\n",
        "                \"shan't've\": \"shall not have\", \"she'd\": \"she would\", \"she'd've\": \"she would have\", \"she'll\": \"she will\", \"she'll've\": \"she will have\", \"she's\": \"she is\",\n",
        "                \"should've\": \"should have\", \"shouldn't\": \"should not\", \"shouldn't've\": \"should not have\", \"so've\": \"so have\", \"so's\": \"so as\", \"this's\": \"this is\", \"that'd\": \"that would\",\n",
        "                \"that'd've\": \"that would have\", \"that's\": \"that is\", \"there'd\": \"there would\", \"there'd've\": \"there would have\", \"there's\": \"there is\", \"here's\": \"here is\", \"they'd\": \"they would\",\n",
        "                \"they'd've\": \"they would have\", \"they'll\": \"they will\", \"they'll've\": \"they will have\", \"they're\": \"they are\", \"they've\": \"they have\", \"to've\": \"to have\", \"wasn't\": \"was not\",\n",
        "                \"we'd\": \"we would\", \"we'd've\": \"we would have\", \"we'll\": \"we will\", \"we'll've\": \"we will have\", \"we're\": \"we are\", \"we've\": \"we have\", \"weren't\": \"were not\",\n",
        "                \"what'll\": \"what will\", \"what'll've\": \"what will have\", \"what're\": \"what are\", \"what's\": \"what is\", \"what've\": \"what have\", \"when's\": \"when is\", \"when've\": \"when have\",\n",
        "                \"where'd\": \"where did\", \"where's\": \"where is\", \"where've\": \"where have\", \"who'll\": \"who will\", \"who'll've\": \"who will have\", \"who's\": \"who is\", \"who've\": \"who have\",\n",
        "                \"why's\": \"why is\", \"why've\": \"why have\", \"will've\": \"will have\", \"won't\": \"will not\", \"wont\": \"will not\", \"won't've\": \"will not have\", \"would've\": \"would have\",\n",
        "                \"wouldn't\": \"would not\",\n",
        "                \"wouldn't've\": \"would not have\", \"y'all\": \"you all\", \"y'all'd\": \"you all would\", \"y'all'd've\": \"you all would have\", \"y'all're\": \"you all are\", \"y'all've\": \"you all have\",\n",
        "                \"you'd\": \"you would\", \"you'd've\": \"you would have\", \"you'll\": \"you will\", \"you'll've\": \"you will have\", \"you're\": \"you are\", \"you've\": \"you have\", 'colour': 'color',\n",
        "                'centre': 'center', 'favourite': 'favorite', 'travelling': 'traveling', 'counselling': 'counseling', 'theatre': 'theater', 'cancelled': 'canceled', 'labour': 'labor',\n",
        "                'organisation': 'organization', 'wwii': 'world war 2', 'citicise': 'criticize', 'youtu ': 'youtube ', 'Qoura': 'Quora', 'sallary': 'salary', 'Whta': 'What',\n",
        "                'narcisist': 'narcissist', 'howdo': 'how do', 'whatare': 'what are', 'howcan': 'how can', 'howmuch': 'how much', 'howmany': 'how many', 'whydo': 'why do', 'doI': 'do I',\n",
        "                'theBest': 'the best', 'howdoes': 'how does', 'Etherium': 'Ethereum',\n",
        "                'narcissit': 'narcissist', 'bigdata': 'big data', '2k17': '2017', '2k18': '2018', 'qouta': 'quota', 'exboyfriend': 'ex boyfriend', 'airhostess': 'air hostess', \"whst\": 'what',\n",
        "                'watsapp': 'whatsapp', 'demonitisation': 'demonetization', 'demonitization': 'demonetization', 'demonetisation': 'demonetization'}\n",
        "\n",
        "mispell_dict = {k.lower(): v.lower() for k, v in mispell_dict.items()}"
      ]
    },
    {
      "cell_type": "code",
      "execution_count": null,
      "metadata": {
        "id": "w-RLuz2CusZM"
      },
      "outputs": [],
      "source": [
        "def preprocessing_text(s):\n",
        "    # making our string lowercase & removing extra spaces\n",
        "    s = str(s).lower().strip()\n",
        "    \n",
        "    # remove contractions.\n",
        "    s = \" \".join([mispell_dict[word] if word in mispell_dict.keys() else word for word in s.split()])\n",
        "    \n",
        "    # removing \\n\n",
        "    s = re.sub('\\n', '', s)\n",
        "    \n",
        "    # put spaces before & after punctuations to make words seprate. Like \"king?\" to \"king\", \"?\".\n",
        "    s = re.sub(r\"([?!,+=—&%\\'\\\";:¿।।।|\\(\\){}\\[\\]//])\", r\" \\1 \", s)\n",
        "    \n",
        "    # Remove more than 2 continues spaces with 1 space.\n",
        "    s = re.sub('[ ]{2,}', ' ', s).strip()\n",
        "    \n",
        "    return s"
      ]
    },
    {
      "cell_type": "code",
      "execution_count": null,
      "metadata": {
        "id": "ZjVGFC8pusZO",
        "outputId": "1ae470a5-f7dc-4396-c10d-043bc3ac8078"
      },
      "outputs": [
        {
          "data": {
            "text/html": [
              "<div>\n",
              "<style scoped>\n",
              "    .dataframe tbody tr th:only-of-type {\n",
              "        vertical-align: middle;\n",
              "    }\n",
              "\n",
              "    .dataframe tbody tr th {\n",
              "        vertical-align: top;\n",
              "    }\n",
              "\n",
              "    .dataframe thead th {\n",
              "        text-align: right;\n",
              "    }\n",
              "</style>\n",
              "<table border=\"1\" class=\"dataframe\">\n",
              "  <thead>\n",
              "    <tr style=\"text-align: right;\">\n",
              "      <th></th>\n",
              "      <th>label</th>\n",
              "      <th>comment</th>\n",
              "    </tr>\n",
              "  </thead>\n",
              "  <tbody>\n",
              "    <tr>\n",
              "      <th>0</th>\n",
              "      <td>0</td>\n",
              "      <td>nc and nh.</td>\n",
              "    </tr>\n",
              "    <tr>\n",
              "      <th>1</th>\n",
              "      <td>0</td>\n",
              "      <td>you do know west teams play against west teams...</td>\n",
              "    </tr>\n",
              "    <tr>\n",
              "      <th>2</th>\n",
              "      <td>0</td>\n",
              "      <td>they were underdogs earlier today , but since ...</td>\n",
              "    </tr>\n",
              "    <tr>\n",
              "      <th>3</th>\n",
              "      <td>0</td>\n",
              "      <td>this meme is not funny none of the \" new york ...</td>\n",
              "    </tr>\n",
              "    <tr>\n",
              "      <th>4</th>\n",
              "      <td>0</td>\n",
              "      <td>i could use one of those tools.</td>\n",
              "    </tr>\n",
              "  </tbody>\n",
              "</table>\n",
              "</div>"
            ],
            "text/plain": [
              "   label                                            comment\n",
              "0      0                                         nc and nh.\n",
              "1      0  you do know west teams play against west teams...\n",
              "2      0  they were underdogs earlier today , but since ...\n",
              "3      0  this meme is not funny none of the \" new york ...\n",
              "4      0                    i could use one of those tools."
            ]
          },
          "execution_count": 7,
          "metadata": {},
          "output_type": "execute_result"
        }
      ],
      "source": [
        "# apply preprocessing_text function\n",
        "sarcasm_data['comment'] = sarcasm_data['comment'].apply(preprocessing_text)\n",
        "sarcasm_data.head()"
      ]
    },
    {
      "cell_type": "markdown",
      "metadata": {
        "id": "xWkKOvaSusZP"
      },
      "source": [
        "Prepare matrix embedded for layer to identify relations between words"
      ]
    },
    {
      "cell_type": "code",
      "execution_count": null,
      "metadata": {
        "id": "flfT3erUusZP"
      },
      "outputs": [],
      "source": [
        "# total unique words we are going to use.\n",
        "TOTAL_WORDS = 40000\n",
        "\n",
        "# max number of words one sentence can have\n",
        "MAX_LEN = 50\n",
        "\n",
        "# width of of 1D embedding vector\n",
        "EMBEDDING_SIZE = 300"
      ]
    },
    {
      "cell_type": "code",
      "execution_count": null,
      "metadata": {
        "id": "nNeqyg__usZQ"
      },
      "outputs": [],
      "source": [
        "tokenizer = Tokenizer(num_words=TOTAL_WORDS)\n",
        "tokenizer.fit_on_texts(list(sarcasm_data['comment']))\n",
        "\n",
        "train_data = tokenizer.texts_to_sequences(sarcasm_data['comment'])\n",
        "train_data = pad_sequences(train_data, maxlen = MAX_LEN)\n",
        "target = sarcasm_data['label']\n"
      ]
    },
    {
      "cell_type": "code",
      "execution_count": null,
      "metadata": {
        "id": "OQ2_4FRUusZQ",
        "outputId": "4747e4ad-bafb-4863-9399-d9b3dadbdb00"
      },
      "outputs": [
        {
          "name": "stdout",
          "output_type": "stream",
          "text": [
            "{1: 'the', 2: 'is', 3: 'a', 4: 'to', 5: 'i', 6: 'you', 7: 'not', 8: 'it', 9: 'and', 10: 'that', 11: 'of', 12: 'in', 13: 'are', 14: 'for', 15: 'have', 16: 'but', 17: 'they', 18: 'this', 19: 'be', 20: 'do', 21: 'on', 22: 'he', 23: 'so', 24: 'just', 25: 'was', 26: 'with', 27: 'like', 28: \"'\", 29: 'can', 30: 'if', 31: 'would', 32: 'because', 33: 'all', 34: 'we', 35: 'what', 36: 'will', 37: 'as', 38: 'no', 39: 'your', 40: 'my', 41: 'yeah', 42: 'at', 43: 'am', 44: 'people', 45: 'get', 46: 'or', 47: 'a\n"
          ]
        }
      ],
      "source": [
        "print(str(tokenizer.index_word)[0:500])"
      ]
    },
    {
      "cell_type": "code",
      "execution_count": null,
      "metadata": {
        "colab": {
          "referenced_widgets": [
            "7023560b59ad4a258baeeafa2df94488"
          ]
        },
        "id": "mdKtc4pXusZR",
        "outputId": "5e3afc47-e24b-4ad1-e1c3-d5b9b1d8d256"
      },
      "outputs": [
        {
          "data": {
            "application/vnd.jupyter.widget-view+json": {
              "model_id": "7023560b59ad4a258baeeafa2df94488",
              "version_major": 2,
              "version_minor": 0
            },
            "text/plain": [
              "HBox(children=(HTML(value=''), FloatProgress(value=1.0, bar_style='info', layout=Layout(width='20px'), max=1.0…"
            ]
          },
          "metadata": {},
          "output_type": "display_data"
        },
        {
          "name": "stdout",
          "output_type": "stream",
          "text": [
            "\n"
          ]
        }
      ],
      "source": [
        "\n",
        "EMBEDDING_FILE = 'crawl-300d-2M.vec'\n",
        "\n",
        "def get_coefs(word, *arr): return word, np.asarray(arr, dtype='float32')\n",
        "\n",
        "embeddings_index = dict(get_coefs(*o.rstrip().rsplit(' ')) for o in tqdm(open(EMBEDDING_FILE,encoding=\"utf8\")))\n",
        "\n",
        "word_index = tokenizer.word_index\n",
        "nb_words = min(TOTAL_WORDS, len(word_index))\n",
        "embedding_matrix = np.zeros((nb_words, EMBEDDING_SIZE))"
      ]
    },
    {
      "cell_type": "code",
      "execution_count": null,
      "metadata": {
        "colab": {
          "referenced_widgets": [
            "c1e21f4e38d84a37affc08f256464b6f"
          ]
        },
        "id": "8XoquDzzusZS",
        "outputId": "dd9a510f-c879-4940-d7ee-99ce8f328f6d"
      },
      "outputs": [
        {
          "data": {
            "application/vnd.jupyter.widget-view+json": {
              "model_id": "c1e21f4e38d84a37affc08f256464b6f",
              "version_major": 2,
              "version_minor": 0
            },
            "text/plain": [
              "HBox(children=(HTML(value=''), FloatProgress(value=0.0, max=166508.0), HTML(value='')))"
            ]
          },
          "metadata": {},
          "output_type": "display_data"
        },
        {
          "name": "stdout",
          "output_type": "stream",
          "text": [
            "\n"
          ]
        }
      ],
      "source": [
        "for word, i in tqdm(word_index.items()):\n",
        "    if i >= TOTAL_WORDS: continue\n",
        "    embedding_vector = embeddings_index.get(word)\n",
        "    if embedding_vector is not None: embedding_matrix[i] = embedding_vector"
      ]
    },
    {
      "cell_type": "code",
      "execution_count": null,
      "metadata": {
        "id": "1QBlNHOyusZS",
        "outputId": "4f89af03-1473-4838-9e06-e9e606bca78f"
      },
      "outputs": [
        {
          "data": {
            "text/plain": [
              "(40000, 300)"
            ]
          },
          "execution_count": 13,
          "metadata": {},
          "output_type": "execute_result"
        }
      ],
      "source": [
        "embedding_matrix.shape"
      ]
    },
    {
      "cell_type": "markdown",
      "metadata": {
        "id": "rYcmKftrusZT"
      },
      "source": [
        "Make NLP model"
      ]
    },
    {
      "cell_type": "code",
      "execution_count": null,
      "metadata": {
        "id": "qiDPRKQSusZT",
        "outputId": "2073502d-5186-4022-c6dd-2aab3a05e961"
      },
      "outputs": [
        {
          "name": "stdout",
          "output_type": "stream",
          "text": [
            "Model: \"sequential\"\n",
            "_________________________________________________________________\n",
            " Layer (type)                Output Shape              Param #   \n",
            "=================================================================\n",
            " embedding (Embedding)       (None, 50, 300)           12000000  \n",
            "                                                                 \n",
            " bidirectional (Bidirectiona  (None, 50, 256)          439296    \n",
            " l)                                                              \n",
            "                                                                 \n",
            " global_max_pooling1d (Globa  (None, 256)              0         \n",
            " lMaxPooling1D)                                                  \n",
            "                                                                 \n",
            " dense (Dense)               (None, 64)                16448     \n",
            "                                                                 \n",
            " dropout (Dropout)           (None, 64)                0         \n",
            "                                                                 \n",
            " dense_1 (Dense)             (None, 32)                2080      \n",
            "                                                                 \n",
            " dropout_1 (Dropout)         (None, 32)                0         \n",
            "                                                                 \n",
            " dense_2 (Dense)             (None, 1)                 33        \n",
            "                                                                 \n",
            "=================================================================\n",
            "Total params: 12,457,857\n",
            "Trainable params: 12,457,857\n",
            "Non-trainable params: 0\n",
            "_________________________________________________________________\n"
          ]
        }
      ],
      "source": [
        "lstm_model=Sequential()\n",
        "input_layer = Input(shape=(MAX_LEN,))\n",
        "lstm_model.add(input_layer)\n",
        "embedding_layer = Embedding(TOTAL_WORDS, EMBEDDING_SIZE, weights = [embedding_matrix])\n",
        "lstm_model.add(embedding_layer)\n",
        "LSTM_layer = Bidirectional(LSTM(128, return_sequences = True))\n",
        "lstm_model.add(LSTM_layer)\n",
        "\n",
        "maxpool_layer = GlobalMaxPool1D()\n",
        "lstm_model.add(maxpool_layer)\n",
        "dense_layer_1 = Dense(64, activation=\"relu\")\n",
        "lstm_model.add(dense_layer_1)\n",
        "dropout_1 = Dropout(0.5)\n",
        "lstm_model.add(dropout_1)\n",
        "\n",
        "dense_layer_2 = Dense(32, activation=\"relu\")\n",
        "lstm_model.add(dense_layer_2)\n",
        "dropout_2 = Dropout(0.5)\n",
        "lstm_model.add(dropout_2)\n",
        "\n",
        "output_layer = Dense(1, activation=\"sigmoid\")\n",
        "lstm_model.add(output_layer)\n",
        "\n",
        "\n",
        "\n",
        "lstm_model.compile(loss='binary_crossentropy', optimizer='adam', metrics=['accuracy'])\n",
        "lstm_model.summary()"
      ]
    },
    {
      "cell_type": "markdown",
      "metadata": {
        "id": "S60CIwYNusZT"
      },
      "source": [
        "Training model"
      ]
    },
    {
      "cell_type": "code",
      "execution_count": null,
      "metadata": {
        "id": "PgfHCC0WusZT",
        "outputId": "527ffc9f-55fe-45bc-faf7-a609687fdc2e"
      },
      "outputs": [
        {
          "name": "stdout",
          "output_type": "stream",
          "text": [
            "Epoch 1/2\n",
            "1580/1580 [==============================] - 1736s 1s/step - loss: 0.5677 - accuracy: 0.7084 - val_loss: 0.5230 - val_accuracy: 0.7374\n",
            "Epoch 2/2\n",
            "1580/1580 [==============================] - 1799s 1s/step - loss: 0.5214 - accuracy: 0.7445 - val_loss: 0.5183 - val_accuracy: 0.7413\n"
          ]
        }
      ],
      "source": [
        "BATCH_SIZE = 512\n",
        "EPOCHS = 2\n",
        "\n",
        "history = lstm_model.fit(\n",
        "    train_data, target,\n",
        "    batch_size=BATCH_SIZE,\n",
        "    epochs=EPOCHS,\n",
        "    # We are using randomly selected 20% sentences as validation data.\n",
        "    validation_split=0.2\n",
        ")"
      ]
    },
    {
      "cell_type": "code",
      "execution_count": null,
      "metadata": {
        "id": "5P-tR4yVusZU",
        "outputId": "07b14c68-8ebf-4a0f-a623-8d2d098fafd5"
      },
      "outputs": [
        {
          "data": {
            "text/html": [
              "<div>\n",
              "<style scoped>\n",
              "    .dataframe tbody tr th:only-of-type {\n",
              "        vertical-align: middle;\n",
              "    }\n",
              "\n",
              "    .dataframe tbody tr th {\n",
              "        vertical-align: top;\n",
              "    }\n",
              "\n",
              "    .dataframe thead th {\n",
              "        text-align: right;\n",
              "    }\n",
              "</style>\n",
              "<table border=\"1\" class=\"dataframe\">\n",
              "  <thead>\n",
              "    <tr style=\"text-align: right;\">\n",
              "      <th></th>\n",
              "      <th>label</th>\n",
              "      <th>comment</th>\n",
              "    </tr>\n",
              "  </thead>\n",
              "  <tbody>\n",
              "    <tr>\n",
              "      <th>596282</th>\n",
              "      <td>1</td>\n",
              "      <td>but it says that on market lol , it must be wo...</td>\n",
              "    </tr>\n",
              "    <tr>\n",
              "      <th>611779</th>\n",
              "      <td>1</td>\n",
              "      <td>well , you can charge it via the lightning port !</td>\n",
              "    </tr>\n",
              "    <tr>\n",
              "      <th>959918</th>\n",
              "      <td>1</td>\n",
              "      <td>nope.</td>\n",
              "    </tr>\n",
              "    <tr>\n",
              "      <th>268389</th>\n",
              "      <td>1</td>\n",
              "      <td>so much room beneath the name for ads</td>\n",
              "    </tr>\n",
              "    <tr>\n",
              "      <th>824933</th>\n",
              "      <td>1</td>\n",
              "      <td>damn i bet this dude is rollin in pussy</td>\n",
              "    </tr>\n",
              "    <tr>\n",
              "      <th>168067</th>\n",
              "      <td>1</td>\n",
              "      <td>yeah because conservatives are completely inno...</td>\n",
              "    </tr>\n",
              "    <tr>\n",
              "      <th>132204</th>\n",
              "      <td>1</td>\n",
              "      <td>it is because they are not the elect.</td>\n",
              "    </tr>\n",
              "    <tr>\n",
              "      <th>284836</th>\n",
              "      <td>1</td>\n",
              "      <td>just sell your cell will have money then.</td>\n",
              "    </tr>\n",
              "    <tr>\n",
              "      <th>931120</th>\n",
              "      <td>1</td>\n",
              "      <td>........hes got a point you know.</td>\n",
              "    </tr>\n",
              "    <tr>\n",
              "      <th>225373</th>\n",
              "      <td>1</td>\n",
              "      <td>yeah but the pressure is off lescott now so he...</td>\n",
              "    </tr>\n",
              "    <tr>\n",
              "      <th>407700</th>\n",
              "      <td>1</td>\n",
              "      <td>yeah , he will be limited to an eight year term.</td>\n",
              "    </tr>\n",
              "    <tr>\n",
              "      <th>836413</th>\n",
              "      <td>1</td>\n",
              "      <td>yes , because nike obviously modeled their bus...</td>\n",
              "    </tr>\n",
              "    <tr>\n",
              "      <th>752431</th>\n",
              "      <td>1</td>\n",
              "      <td>yes but for all we know he might not know how ...</td>\n",
              "    </tr>\n",
              "    <tr>\n",
              "      <th>471035</th>\n",
              "      <td>1</td>\n",
              "      <td>surely you mean communists</td>\n",
              "    </tr>\n",
              "    <tr>\n",
              "      <th>80608</th>\n",
              "      <td>1</td>\n",
              "      <td>this comment has more likes than the human eye...</td>\n",
              "    </tr>\n",
              "    <tr>\n",
              "      <th>881686</th>\n",
              "      <td>1</td>\n",
              "      <td>did not score against chelsea</td>\n",
              "    </tr>\n",
              "    <tr>\n",
              "      <th>793303</th>\n",
              "      <td>1</td>\n",
              "      <td>you are clearly part of it then , being britis...</td>\n",
              "    </tr>\n",
              "    <tr>\n",
              "      <th>236914</th>\n",
              "      <td>1</td>\n",
              "      <td>you shitlord , you know you would jump at the ...</td>\n",
              "    </tr>\n",
              "    <tr>\n",
              "      <th>146680</th>\n",
              "      <td>1</td>\n",
              "      <td>emphasis on the</td>\n",
              "    </tr>\n",
              "    <tr>\n",
              "      <th>108680</th>\n",
              "      <td>1</td>\n",
              "      <td>if only there was a mandate separating of chur...</td>\n",
              "    </tr>\n",
              "  </tbody>\n",
              "</table>\n",
              "</div>"
            ],
            "text/plain": [
              "        label                                            comment\n",
              "596282      1  but it says that on market lol , it must be wo...\n",
              "611779      1  well , you can charge it via the lightning port !\n",
              "959918      1                                              nope.\n",
              "268389      1              so much room beneath the name for ads\n",
              "824933      1            damn i bet this dude is rollin in pussy\n",
              "168067      1  yeah because conservatives are completely inno...\n",
              "132204      1              it is because they are not the elect.\n",
              "284836      1          just sell your cell will have money then.\n",
              "931120      1                  ........hes got a point you know.\n",
              "225373      1  yeah but the pressure is off lescott now so he...\n",
              "407700      1   yeah , he will be limited to an eight year term.\n",
              "836413      1  yes , because nike obviously modeled their bus...\n",
              "752431      1  yes but for all we know he might not know how ...\n",
              "471035      1                         surely you mean communists\n",
              "80608       1  this comment has more likes than the human eye...\n",
              "881686      1                      did not score against chelsea\n",
              "793303      1  you are clearly part of it then , being britis...\n",
              "236914      1  you shitlord , you know you would jump at the ...\n",
              "146680      1                                    emphasis on the\n",
              "108680      1  if only there was a mandate separating of chur..."
            ]
          },
          "execution_count": 16,
          "metadata": {},
          "output_type": "execute_result"
        }
      ],
      "source": [
        "sarcasm_data[sarcasm_data['label']==1].sample(20)"
      ]
    },
    {
      "cell_type": "code",
      "execution_count": null,
      "metadata": {
        "id": "I-njWQc_usZU",
        "outputId": "408fbbed-f5ee-493f-ceef-d52a994483ae"
      },
      "outputs": [
        {
          "name": "stdout",
          "output_type": "stream",
          "text": [
            "this is not gonna have any problem , dummy\n"
          ]
        }
      ],
      "source": [
        "sentence = \"this is not gonna have any problem, dummy\"\n",
        "sentence = preprocessing_text(sentence)\n",
        "print(sentence)\n",
        "\n",
        "sentence = tokenizer.texts_to_sequences([sentence])\n",
        "sentence = pad_sequences(sentence, maxlen = MAX_LEN)"
      ]
    },
    {
      "cell_type": "code",
      "execution_count": null,
      "metadata": {
        "id": "dRjYgFiAusZV",
        "outputId": "6d4e03ef-0130-415c-a6fa-04f676724f52"
      },
      "outputs": [
        {
          "name": "stdout",
          "output_type": "stream",
          "text": [
            "So, it's saying sentence have probability of 66.624 percent\n"
          ]
        }
      ],
      "source": [
        "prediction = lstm_model.predict(sentence)\n",
        "print(\"So, it's saying sentence have probability of %.3f percent\"%(prediction[0][0]*100))"
      ]
    },
    {
      "cell_type": "code",
      "execution_count": null,
      "metadata": {
        "id": "MFVLXJhmusZV"
      },
      "outputs": [],
      "source": [
        "from sklearn.model_selection import train_test_split\n",
        "X_train_lstm, X_test_lstm, y_train_lstm, y_test_lstm = train_test_split(train_data, target, test_size=0.33)"
      ]
    },
    {
      "cell_type": "code",
      "execution_count": null,
      "metadata": {
        "id": "ueMj9QFRusZW",
        "outputId": "6d050258-bbf1-4056-89f9-5c0ac0bea346"
      },
      "outputs": [
        {
          "name": "stdout",
          "output_type": "stream",
          "text": [
            "Test accuracy of lstm:  0.7688004413052081\n"
          ]
        }
      ],
      "source": [
        "from sklearn.metrics import accuracy_score, confusion_matrix, recall_score, precision_score, f1_score\n",
        "y_test_pred = lstm_model.predict(X_test_lstm)\n",
        "y_test_pred = np.round(y_test_pred).astype(int)\n",
        "\n",
        "test_acc_lstm = accuracy_score(y_test_lstm,y_test_pred)\n",
        "print('Test accuracy of lstm: ', test_acc_lstm)"
      ]
    },
    {
      "cell_type": "code",
      "execution_count": null,
      "metadata": {
        "id": "L_g0YvnyusZW"
      },
      "outputs": [],
      "source": [
        ""
      ]
    },
    {
      "cell_type": "code",
      "execution_count": null,
      "metadata": {
        "id": "Ndm3duSAusZW",
        "outputId": "245fca2e-bd27-46d2-fc50-3da7a6bd9f0a"
      },
      "outputs": [
        {
          "data": {
            "image/png": "[encoded data removed]",
            "text/plain": [
              "<Figure size 432x288 with 2 Axes>"
            ]
          },
          "metadata": {
            "needs_background": "light"
          },
          "output_type": "display_data"
        }
      ],
      "source": [
        "from sklearn.metrics import confusion_matrix\n",
        "import matplotlib.pyplot as plt\n",
        "cm = confusion_matrix(y_test_lstm, y_test_pred)\n",
        "fig = plt.figure()\n",
        "ax = fig.add_subplot(111)\n",
        "cax = ax.matshow(cm)\n",
        "fig.colorbar(cax)\n",
        "plt.xlabel('Predicted')\n",
        "plt.ylabel('True')\n",
        "plt.show()"
      ]
    },
    {
      "cell_type": "code",
      "execution_count": null,
      "metadata": {
        "id": "uWxaZ_jDusZW",
        "outputId": "cc591cd1-ab7e-4f2d-9e98-bfa08f9e66f9"
      },
      "outputs": [
        {
          "data": {
            "image/png": "[encoded data removed]",
            "text/plain": [
              "<Figure size 432x288 with 1 Axes>"
            ]
          },
          "metadata": {
            "needs_background": "light"
          },
          "output_type": "display_data"
        }
      ],
      "source": [
        "import matplotlib.pyplot as plt\n",
        "from sklearn.metrics import roc_curve\n",
        "\n",
        "# calculate roc curve\n",
        "fpr, tpr, thresholds = roc_curve(y_test_lstm, y_test_pred)\n",
        "# plot no skill\n",
        "plt.plot([0, 1], [0, 1], linestyle='--')\n",
        "# plot the roc curve for the model\n",
        "plt.plot(fpr, tpr, marker='.')\n",
        "# show the plot\n",
        "plt.show()"
      ]
    },
    {
      "cell_type": "code",
      "execution_count": null,
      "metadata": {
        "colab": {
          "base_uri": "https://localhost:8080/",
          "height": 237
        },
        "id": "ddq3-cjKusZX",
        "outputId": "2e7cb886-a7e6-48bd-c435-333bec4a5c99"
      },
      "outputs": [
        {
          "output_type": "error",
          "ename": "NameError",
          "evalue": "ignored",
          "traceback": [
            "\u001b[0;31m---------------------------------------------------------------------------\u001b[0m",
            "\u001b[0;31mNameError\u001b[0m                                 Traceback (most recent call last)",
            "\u001b[0;32m<ipython-input-3-2aa260bd5260>\u001b[0m in \u001b[0;36m<module>\u001b[0;34m()\u001b[0m\n\u001b[1;32m      1\u001b[0m \u001b[0;32mfrom\u001b[0m \u001b[0msklearn\u001b[0m\u001b[0;34m.\u001b[0m\u001b[0mmetrics\u001b[0m \u001b[0;32mimport\u001b[0m \u001b[0mprecision_recall_curve\u001b[0m\u001b[0;34m\u001b[0m\u001b[0;34m\u001b[0m\u001b[0m\n\u001b[1;32m      2\u001b[0m \u001b[0;34m\u001b[0m\u001b[0m\n\u001b[0;32m----> 3\u001b[0;31m \u001b[0mprecision\u001b[0m\u001b[0;34m,\u001b[0m \u001b[0mrecall\u001b[0m\u001b[0;34m,\u001b[0m \u001b[0mthresholds\u001b[0m \u001b[0;34m=\u001b[0m \u001b[0mprecision_recall_curve\u001b[0m\u001b[0;34m(\u001b[0m\u001b[0my_test\u001b[0m\u001b[0;34m,\u001b[0m \u001b[0mbag_reg_svm_pred\u001b[0m\u001b[0;34m)\u001b[0m\u001b[0;34m\u001b[0m\u001b[0;34m\u001b[0m\u001b[0m\n\u001b[0m\u001b[1;32m      4\u001b[0m \u001b[0;31m# plot no skill\u001b[0m\u001b[0;34m\u001b[0m\u001b[0;34m\u001b[0m\u001b[0;34m\u001b[0m\u001b[0m\n\u001b[1;32m      5\u001b[0m \u001b[0mplt\u001b[0m\u001b[0;34m.\u001b[0m\u001b[0mplot\u001b[0m\u001b[0;34m(\u001b[0m\u001b[0;34m[\u001b[0m\u001b[0;36m0\u001b[0m\u001b[0;34m,\u001b[0m \u001b[0;36m1\u001b[0m\u001b[0;34m]\u001b[0m\u001b[0;34m,\u001b[0m \u001b[0;34m[\u001b[0m\u001b[0;36m0.5\u001b[0m\u001b[0;34m,\u001b[0m \u001b[0;36m0.5\u001b[0m\u001b[0;34m]\u001b[0m\u001b[0;34m,\u001b[0m \u001b[0mlinestyle\u001b[0m\u001b[0;34m=\u001b[0m\u001b[0;34m'--'\u001b[0m\u001b[0;34m)\u001b[0m\u001b[0;34m\u001b[0m\u001b[0;34m\u001b[0m\u001b[0m\n",
            "\u001b[0;31mNameError\u001b[0m: name 'y_test' is not defined"
          ]
        }
      ],
      "source": [
        "from sklearn.metrics import precision_recall_curve\n",
        "\n",
        "precision, recall, thresholds = precision_recall_curve(y_test, bag_reg_svm_pred)\n",
        "# plot no skill\n",
        "plt.plot([0, 1], [0.5, 0.5], linestyle='--')\n",
        "# plot the precision-recall curve for the model\n",
        "plt.plot(recall, precision, marker='.')\n",
        "# show the plot\n",
        "plt.show()"
      ]
    },
    {
      "cell_type": "code",
      "execution_count": null,
      "metadata": {
        "colab": {
          "base_uri": "https://localhost:8080/",
          "height": 237
        },
        "id": "xNepL2BWusZX",
        "outputId": "2f647c1b-fe2b-42e7-883c-8e8785809919"
      },
      "outputs": [
        {
          "output_type": "error",
          "ename": "NameError",
          "evalue": "ignored",
          "traceback": [
            "\u001b[0;31m---------------------------------------------------------------------------\u001b[0m",
            "\u001b[0;31mNameError\u001b[0m                                 Traceback (most recent call last)",
            "\u001b[0;32m<ipython-input-2-b86d05fa1d4d>\u001b[0m in \u001b[0;36m<module>\u001b[0;34m()\u001b[0m\n\u001b[1;32m      2\u001b[0m \u001b[0;31m# In matplotlib < 1.5, plt.fill_between does not have a 'step' argument\u001b[0m\u001b[0;34m\u001b[0m\u001b[0;34m\u001b[0m\u001b[0;34m\u001b[0m\u001b[0m\n\u001b[1;32m      3\u001b[0m \u001b[0mstep_kwargs\u001b[0m \u001b[0;34m=\u001b[0m \u001b[0;34m(\u001b[0m\u001b[0;34m{\u001b[0m\u001b[0;34m'step'\u001b[0m\u001b[0;34m:\u001b[0m \u001b[0;34m'post'\u001b[0m\u001b[0;34m}\u001b[0m\u001b[0;34m)\u001b[0m\u001b[0;34m\u001b[0m\u001b[0;34m\u001b[0m\u001b[0m\n\u001b[0;32m----> 4\u001b[0;31m plt.step(recall, precision, color='b', alpha=0.2,\n\u001b[0m\u001b[1;32m      5\u001b[0m          where='post')\n\u001b[1;32m      6\u001b[0m \u001b[0mplt\u001b[0m\u001b[0;34m.\u001b[0m\u001b[0mfill_between\u001b[0m\u001b[0;34m(\u001b[0m\u001b[0mrecall\u001b[0m\u001b[0;34m,\u001b[0m \u001b[0mprecision\u001b[0m\u001b[0;34m,\u001b[0m \u001b[0malpha\u001b[0m\u001b[0;34m=\u001b[0m\u001b[0;36m0.2\u001b[0m\u001b[0;34m,\u001b[0m \u001b[0mcolor\u001b[0m\u001b[0;34m=\u001b[0m\u001b[0;34m'b'\u001b[0m\u001b[0;34m,\u001b[0m \u001b[0;34m**\u001b[0m\u001b[0mstep_kwargs\u001b[0m\u001b[0;34m)\u001b[0m\u001b[0;34m\u001b[0m\u001b[0;34m\u001b[0m\u001b[0m\n",
            "\u001b[0;31mNameError\u001b[0m: name 'recall' is not defined"
          ]
        }
      ],
      "source": [
        "import matplotlib.pyplot as plt\n",
        "# In matplotlib < 1.5, plt.fill_between does not have a 'step' argument\n",
        "step_kwargs = ({'step': 'post'})\n",
        "plt.step(recall, precision, color='b', alpha=0.2,\n",
        "         where='post')\n",
        "plt.fill_between(recall, precision, alpha=0.2, color='b', **step_kwargs)\n",
        "\n",
        "from sklearn.metrics import average_precision_score\n",
        "average_precision = average_precision_score(y_test, bag_reg_svm_pred)\n",
        "\n",
        "plt.xlabel('Recall')\n",
        "plt.ylabel('Precision')\n",
        "plt.ylim([0.0, 1.05])\n",
        "plt.xlim([0.0, 1.0])\n",
        "plt.title('2-class Precision-Recall curve: AP={0:0.2f}'.format(average_precision))"
      ]
    }
  ],
  "metadata": {
    "interpreter": {
      "hash": "40e2eb60aa1a11f2fe87c70e9a895dc0d64f6821c8fd8cbe344969fe515db466"
    },
    "kernelspec": {
      "display_name": "Python 3.9.1 64-bit ('base': conda)",
      "language": "python",
      "name": "python3"
    },
    "language_info": {
      "codemirror_mode": {
        "name": "ipython",
        "version": 3
      },
      "file_extension": ".py",
      "mimetype": "text/x-python",
      "name": "python",
      "nbconvert_exporter": "python",
      "pygments_lexer": "ipython3",
      "version": "3.9.1"
    },
    "orig_nbformat": 4,
    "colab": {
      "name": "try.ipynb",
      "provenance": []
    }
  },
  "nbformat": 4,
  "nbformat_minor": 0
}